{
 "cells": [
  {
   "cell_type": "code",
   "execution_count": 8,
   "id": "80c285f3",
   "metadata": {
    "papermill": {
     "duration": 0.921542,
     "end_time": "2024-07-24T06:13:22.715072",
     "exception": false,
     "start_time": "2024-07-24T06:13:21.793530",
     "status": "completed"
    },
    "tags": []
   },
   "outputs": [],
   "source": [
    "import numpy as np\n",
    "import pandas as pd\n",
    "import matplotlib.pyplot as plt"
   ]
  },
  {
   "cell_type": "code",
   "execution_count": 9,
   "id": "231cb108",
   "metadata": {
    "papermill": {
     "duration": 0.741499,
     "end_time": "2024-07-24T06:13:23.459603",
     "exception": true,
     "start_time": "2024-07-24T06:13:22.718104",
     "status": "failed"
    },
    "tags": []
   },
   "outputs": [],
   "source": [
    "data = pd.read_csv(\"age data.csv\")"
   ]
  },
  {
   "cell_type": "code",
   "execution_count": 15,
   "id": "d9cf6855",
   "metadata": {
    "papermill": {
     "duration": null,
     "end_time": null,
     "exception": null,
     "start_time": null,
     "status": "pending"
    },
    "tags": []
   },
   "outputs": [
    {
     "data": {
      "text/plain": [
       "array([[ 5,  6,  7,  9, 10, 12, 13, 16, 15, 14, 19, 18, 20, 22, 23, 25,\n",
       "        27, 26, 30, 24]], dtype=int64)"
      ]
     },
     "execution_count": 15,
     "metadata": {},
     "output_type": "execute_result"
    }
   ],
   "source": [
    "X= data[\"Age\"]\n",
    "y= data[\"Weight\"]\n",
    "X_n = np.array(X)\n",
    "X_r = X_n.reshape(1,-1)\n",
    "y_n = np.array(y)\n",
    "y_r = y_n.reshape(1,-1)\n",
    "X_r"
   ]
  },
  {
   "cell_type": "code",
   "execution_count": 12,
   "id": "44df333f",
   "metadata": {
    "papermill": {
     "duration": null,
     "end_time": null,
     "exception": null,
     "start_time": null,
     "status": "pending"
    },
    "tags": []
   },
   "outputs": [
    {
     "data": {
      "text/plain": [
       "<matplotlib.collections.PathCollection at 0x14644bca110>"
      ]
     },
     "execution_count": 12,
     "metadata": {},
     "output_type": "execute_result"
    },
    {
     "data": {
      "image/png": "[encoded data removed]",
      "text/plain": [
       "<Figure size 640x480 with 1 Axes>"
      ]
     },
     "metadata": {},
     "output_type": "display_data"
    }
   ],
   "source": [
    "plt.scatter(X_r,y_r, c= 'r')"
   ]
  },
  {
   "cell_type": "code",
   "execution_count": 13,
   "id": "fec7e5d6",
   "metadata": {
    "papermill": {
     "duration": null,
     "end_time": null,
     "exception": null,
     "start_time": null,
     "status": "pending"
    },
    "tags": []
   },
   "outputs": [],
   "source": [
    "m = 0\n",
    "c= 0\n",
    "L = 0.001\n",
    "epochs=1000\n",
    "n= float(len(X))\n",
    "#y.shape"
   ]
  },
  {
   "cell_type": "code",
   "execution_count": 6,
   "id": "3a9290fa",
   "metadata": {
    "papermill": {
     "duration": null,
     "end_time": null,
     "exception": null,
     "start_time": null,
     "status": "pending"
    },
    "tags": []
   },
   "outputs": [
    {
     "data": {
      "text/plain": [
       "[<matplotlib.lines.Line2D at 0x14644b18e90>,\n",
       " <matplotlib.lines.Line2D at 0x14644b1c750>,\n",
       " <matplotlib.lines.Line2D at 0x14644a728d0>,\n",
       " <matplotlib.lines.Line2D at 0x14644b32b50>,\n",
       " <matplotlib.lines.Line2D at 0x146446c4b10>,\n",
       " <matplotlib.lines.Line2D at 0x14644b33150>,\n",
       " <matplotlib.lines.Line2D at 0x14644b33490>,\n",
       " <matplotlib.lines.Line2D at 0x14644b33790>,\n",
       " <matplotlib.lines.Line2D at 0x14644b33a90>,\n",
       " <matplotlib.lines.Line2D at 0x14644ae3dd0>,\n",
       " <matplotlib.lines.Line2D at 0x14644b400d0>,\n",
       " <matplotlib.lines.Line2D at 0x14644b40450>,\n",
       " <matplotlib.lines.Line2D at 0x14644b40790>,\n",
       " <matplotlib.lines.Line2D at 0x14644b40ad0>,\n",
       " <matplotlib.lines.Line2D at 0x14644b40e10>,\n",
       " <matplotlib.lines.Line2D at 0x14644b41190>,\n",
       " <matplotlib.lines.Line2D at 0x14644b41490>,\n",
       " <matplotlib.lines.Line2D at 0x14644ae9890>,\n",
       " <matplotlib.lines.Line2D at 0x14644b41cd0>,\n",
       " <matplotlib.lines.Line2D at 0x14644b41fd0>]"
      ]
     },
     "execution_count": 6,
     "metadata": {},
     "output_type": "execute_result"
    },
    {
     "data": {
      "image/png": "[encoded data removed]",
      "text/plain": [
       "<Figure size 640x480 with 1 Axes>"
      ]
     },
     "metadata": {},
     "output_type": "display_data"
    }
   ],
   "source": [
    "for i in range(10): \n",
    "    y_pred = m*X_r + c  # The current predicted value of Y\n",
    "    D_m = (-2/n) * sum(X_r * (y_r - y_pred))  # Derivative wrt m\n",
    "    D_c = (-2/n) * sum(y_r - y_pred)  # Derivative wrt c\n",
    "    m = m - L * D_m  # Update m\n",
    "    \n",
    "    c = c - L * D_c  # Update c\n",
    "    plt.scatter(X_r,y_r, c= 'r')\n",
    "    \n",
    "#print (m, c)\n",
    "plt.plot(X_r,y_pred)"
   ]
  },
  {
   "cell_type": "code",
   "execution_count": 7,
   "id": "c0179606",
   "metadata": {
    "papermill": {
     "duration": null,
     "end_time": null,
     "exception": null,
     "start_time": null,
     "status": "pending"
    },
    "tags": []
   },
   "outputs": [
    {
     "data": {
      "text/plain": [
       "array([[ 0.41684599,  0.65622783,  0.83809801,  1.49992731,  2.79401239,\n",
       "         3.69544784,  3.57495863,  6.26683942,  5.57850385,  4.59066616,\n",
       "        11.29600875,  9.77445347, 12.32459937, 15.87245617, 17.4347253 ,\n",
       "        22.05561559, 25.71421502, 27.13763867, 29.76964854, 18.64183127]])"
      ]
     },
     "execution_count": 7,
     "metadata": {},
     "output_type": "execute_result"
    }
   ],
   "source": [
    "y_pred"
   ]
  }
 ],
 "metadata": {
  "kaggle": {
   "accelerator": "none",
   "dataSources": [],
   "isGpuEnabled": false,
   "isInternetEnabled": true,
   "language": "python",
   "sourceType": "notebook"
  },
  "kernelspec": {
   "display_name": "Python 3 (ipykernel)",
   "language": "python",
   "name": "python3"
  },
  "language_info": {
   "codemirror_mode": {
    "name": "ipython",
    "version": 3
   },
   "file_extension": ".py",
   "mimetype": "text/x-python",
   "name": "python",
   "nbconvert_exporter": "python",
   "pygments_lexer": "ipython3",
   "version": "3.11.7"
  },
  "papermill": {
   "default_parameters": {},
   "duration": 5.081932,
   "end_time": "2024-07-24T06:13:24.083311",
   "environment_variables": {},
   "exception": true,
   "input_path": "__notebook__.ipynb",
   "output_path": "__notebook__.ipynb",
   "parameters": {},
   "start_time": "2024-07-24T06:13:19.001379",
   "version": "2.5.0"
  }
 },
 "nbformat": 4,
 "nbformat_minor": 5
}
